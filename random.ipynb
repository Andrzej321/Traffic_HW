{
 "cells": [
  {
   "cell_type": "code",
   "id": "initial_id",
   "metadata": {
    "collapsed": true,
    "ExecuteTime": {
     "end_time": "2025-05-06T07:01:26.166167Z",
     "start_time": "2025-05-06T07:01:26.061703Z"
    }
   },
   "source": [
    "import os\n",
    "import sys\n",
    "import traci"
   ],
   "outputs": [],
   "execution_count": 5
  },
  {
   "metadata": {
    "ExecuteTime": {
     "end_time": "2025-05-06T07:01:36.821148Z",
     "start_time": "2025-05-06T07:01:36.817724Z"
    }
   },
   "cell_type": "code",
   "source": [
    "if 'SUMO_HOME' not in os.environ:\n",
    "    os.environ['SUMO_HOME'] = r\"C:\\SUMO\"  # Update this path"
   ],
   "id": "cddf68be2aeda76b",
   "outputs": [],
   "execution_count": 6
  },
  {
   "metadata": {
    "ExecuteTime": {
     "end_time": "2025-05-06T07:01:47.532866Z",
     "start_time": "2025-05-06T07:01:47.529672Z"
    }
   },
   "cell_type": "code",
   "source": [
    "# Make sure SUMO_HOME environment variable is set correctly\n",
    "if 'SUMO_HOME' not in os.environ:\n",
    "    # This should point to the actual SUMO installation directory, not the config files\n",
    "    raise EnvironmentError(\"Please set SUMO_HOME environment variable\")"
   ],
   "id": "c25693e3cef19b8a",
   "outputs": [],
   "execution_count": 7
  },
  {
   "metadata": {
    "ExecuteTime": {
     "end_time": "2025-05-06T07:01:55.858096Z",
     "start_time": "2025-05-06T07:01:55.854767Z"
    }
   },
   "cell_type": "code",
   "source": [
    "# Add SUMO tools to Python path\n",
    "tools_path = os.path.join(os.environ['SUMO_HOME'], 'tools')\n",
    "sys.path.append(tools_path)"
   ],
   "id": "2a9512738685e27f",
   "outputs": [],
   "execution_count": 8
  },
  {
   "metadata": {
    "ExecuteTime": {
     "end_time": "2025-05-06T07:08:46.245078Z",
     "start_time": "2025-05-06T07:08:46.239976Z"
    }
   },
   "cell_type": "code",
   "source": [
    "def run_simulation(config_path):\n",
    "    try:\n",
    "        # Check if we're already connected\n",
    "        if not traci.isConnected():\n",
    "            if 'SUMO_HOME' in os.environ:\n",
    "                sumo_binary = os.path.join(os.environ['SUMO_HOME'], 'bin', 'sumo')\n",
    "                # Use absolute path for the config file\n",
    "                config_absolute_path = os.path.abspath(config_path)\n",
    "\n",
    "                if not os.path.exists(config_absolute_path):\n",
    "                    raise FileNotFoundError(f\"Config file not found: {config_absolute_path}\")\n",
    "\n",
    "                sumo_cmd = [sumo_binary, \"-c\", config_absolute_path]\n",
    "                traci.start(sumo_cmd)\n",
    "            else:\n",
    "                raise EnvironmentError(\"Please set SUMO_HOME environment variable\")\n",
    "\n",
    "        # Your simulation steps here\n",
    "        while traci.simulation.getMinExpectedNumber() > 0:\n",
    "            traci.simulationStep()\n",
    "\n",
    "    except FileNotFoundError as e:\n",
    "        print(f\"Configuration file error: {e}\")\n",
    "    except Exception as e:\n",
    "        print(f\"Error during simulation: {e}\")\n",
    "    finally:\n",
    "        if traci.isConnected():\n",
    "            traci.close()\n",
    "        print(\"Simulation finished\")\n",
    "\n"
   ],
   "id": "36350f7ff9adffdc",
   "outputs": [],
   "execution_count": 14
  },
  {
   "metadata": {
    "ExecuteTime": {
     "end_time": "2025-05-06T07:08:47.662928Z",
     "start_time": "2025-05-06T07:08:47.634398Z"
    }
   },
   "cell_type": "code",
   "source": [
    "config_file = \"onramp.sumocfg\"  # You can provide absolute or relative path\n",
    "run_simulation(config_file)"
   ],
   "id": "32b7f15aa75bc4cf",
   "outputs": [
    {
     "name": "stdout",
     "output_type": "stream",
     "text": [
      "Error during simulation: module 'traci' has no attribute 'isConnected'\n"
     ]
    },
    {
     "ename": "AttributeError",
     "evalue": "module 'traci' has no attribute 'isConnected'",
     "output_type": "error",
     "traceback": [
      "\u001B[31m---------------------------------------------------------------------------\u001B[39m",
      "\u001B[31mAttributeError\u001B[39m                            Traceback (most recent call last)",
      "\u001B[36mCell\u001B[39m\u001B[36m \u001B[39m\u001B[32mIn[15]\u001B[39m\u001B[32m, line 2\u001B[39m\n\u001B[32m      1\u001B[39m config_file = \u001B[33m\"\u001B[39m\u001B[33monramp.sumocfg\u001B[39m\u001B[33m\"\u001B[39m  \u001B[38;5;66;03m# You can provide absolute or relative path\u001B[39;00m\n\u001B[32m----> \u001B[39m\u001B[32m2\u001B[39m \u001B[43mrun_simulation\u001B[49m\u001B[43m(\u001B[49m\u001B[43mconfig_file\u001B[49m\u001B[43m)\u001B[49m\n",
      "\u001B[36mCell\u001B[39m\u001B[36m \u001B[39m\u001B[32mIn[14]\u001B[39m\u001B[32m, line 27\u001B[39m, in \u001B[36mrun_simulation\u001B[39m\u001B[34m(config_path)\u001B[39m\n\u001B[32m     25\u001B[39m     \u001B[38;5;28mprint\u001B[39m(\u001B[33mf\u001B[39m\u001B[33m\"\u001B[39m\u001B[33mError during simulation: \u001B[39m\u001B[38;5;132;01m{\u001B[39;00me\u001B[38;5;132;01m}\u001B[39;00m\u001B[33m\"\u001B[39m)\n\u001B[32m     26\u001B[39m \u001B[38;5;28;01mfinally\u001B[39;00m:\n\u001B[32m---> \u001B[39m\u001B[32m27\u001B[39m     \u001B[38;5;28;01mif\u001B[39;00m \u001B[43mtraci\u001B[49m\u001B[43m.\u001B[49m\u001B[43misConnected\u001B[49m():\n\u001B[32m     28\u001B[39m         traci.close()\n\u001B[32m     29\u001B[39m     \u001B[38;5;28mprint\u001B[39m(\u001B[33m\"\u001B[39m\u001B[33mSimulation finished\u001B[39m\u001B[33m\"\u001B[39m)\n",
      "\u001B[31mAttributeError\u001B[39m: module 'traci' has no attribute 'isConnected'"
     ]
    }
   ],
   "execution_count": 15
  }
 ],
 "metadata": {
  "kernelspec": {
   "display_name": "Python 3",
   "language": "python",
   "name": "python3"
  },
  "language_info": {
   "codemirror_mode": {
    "name": "ipython",
    "version": 2
   },
   "file_extension": ".py",
   "mimetype": "text/x-python",
   "name": "python",
   "nbconvert_exporter": "python",
   "pygments_lexer": "ipython2",
   "version": "2.7.6"
  }
 },
 "nbformat": 4,
 "nbformat_minor": 5
}
