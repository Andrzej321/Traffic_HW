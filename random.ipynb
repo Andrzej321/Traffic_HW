{
 "cells": [
  {
   "cell_type": "code",
   "id": "initial_id",
   "metadata": {
    "collapsed": true,
    "ExecuteTime": {
     "end_time": "2025-05-06T06:56:40.012433Z",
     "start_time": "2025-05-06T06:56:40.007674Z"
    }
   },
   "source": [
    "import os\n",
    "\n",
    "if 'SUMO_HOME' not in os.environ:\n",
    "    os.environ['SUMO_HOME'] = r\"C:\\SUMO\"  # Update this path\n",
    "\n",
    "# Check if SUMO_HOME exists\n",
    "if 'SUMO_HOME' in os.environ:\n",
    "    print(f\"SUMO_HOME is set to: {os.environ['SUMO_HOME']}\")\n",
    "else:\n",
    "    print(\"SUMO_HOME is not set\")\n",
    "\n",
    "# Verify SUMO installation\n",
    "sumo_bin = os.path.join(os.environ.get('SUMO_HOME', ''), 'bin', 'sumo.exe')\n",
    "if os.path.exists(sumo_bin):\n",
    "    print(f\"SUMO binary found at: {sumo_bin}\")\n",
    "else:\n",
    "    print(\"SUMO binary not found!\")\n",
    "\n"
   ],
   "outputs": [
    {
     "name": "stdout",
     "output_type": "stream",
     "text": [
      "SUMO_HOME is set to: C:\\SUMO\n",
      "SUMO binary found at: C:\\SUMO\\bin\\sumo.exe\n"
     ]
    }
   ],
   "execution_count": 4
  }
 ],
 "metadata": {
  "kernelspec": {
   "display_name": "Python 3",
   "language": "python",
   "name": "python3"
  },
  "language_info": {
   "codemirror_mode": {
    "name": "ipython",
    "version": 2
   },
   "file_extension": ".py",
   "mimetype": "text/x-python",
   "name": "python",
   "nbconvert_exporter": "python",
   "pygments_lexer": "ipython2",
   "version": "2.7.6"
  }
 },
 "nbformat": 4,
 "nbformat_minor": 5
}
